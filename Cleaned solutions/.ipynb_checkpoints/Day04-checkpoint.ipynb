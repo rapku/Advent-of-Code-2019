{
 "cells": [
  {
   "cell_type": "markdown",
   "metadata": {},
   "source": [
    "##### URL: https://adventofcode.com/2019/day/4\n",
    "### --- Day 4: Secure Container ---\n",
    "You arrive at the Venus fuel depot only to discover it's protected by a password. The Elves had written the password on a sticky note, but someone threw it out.\n",
    "\n",
    "However, they do remember a few key facts about the password:\n",
    "\n",
    "* It is a six-digit number.\n",
    "* The value is within the range given in your puzzle input.\n",
    "* Two adjacent digits are the same (like 22 in 122345).\n",
    "* Going from left to right, the digits never decrease; they only ever increase or stay the same (like 111123 or 135679).\n",
    "Other than the range rule, the following are true:\n",
    "\n",
    "* 111111 meets these criteria (double 11, never decreases).\n",
    "* 223450 does not meet these criteria (decreasing pair of digits 50).\n",
    "* 123789 does not meet these criteria (no double).\n",
    "\n",
    "**How many different passwords within the range given in your puzzle input meet these criteria?**"
   ]
  },
  {
   "cell_type": "code",
   "execution_count": 1,
   "metadata": {},
   "outputs": [],
   "source": [
    "from collections import Counter"
   ]
  },
  {
   "cell_type": "code",
   "execution_count": 2,
   "metadata": {},
   "outputs": [],
   "source": [
    "## INPUT RANGE FOR PASSWORD 254032-789860\n",
    "def pass_check(num):\n",
    "    str_form = str(num)\n",
    "    flag1 = 0\n",
    "    flag2 = 1\n",
    "    \n",
    "    # never decreases\n",
    "    for val in range(len(str_form)-1):\n",
    "        if str_form[val] == str_form[val+1]:\n",
    "            flag1 = 1\n",
    "        if int(str_form[val]) > int(str_form[val+1]):\n",
    "            flag2 = 0\n",
    "    \n",
    "    if flag1 == 1 and flag2 == 1:\n",
    "        return num\n",
    "    else:\n",
    "        return None"
   ]
  },
  {
   "cell_type": "code",
   "execution_count": 3,
   "metadata": {},
   "outputs": [
    {
     "data": {
      "text/plain": [
       "1033"
      ]
     },
     "execution_count": 3,
     "metadata": {},
     "output_type": "execute_result"
    }
   ],
   "source": [
    "match_pass = 0\n",
    "for number in range(254032, 789860+1, 1):\n",
    "    if pass_check(number):\n",
    "        match_pass += 1\n",
    "match_pass"
   ]
  },
  {
   "cell_type": "markdown",
   "metadata": {},
   "source": [
    "### --- Part Two ---\n",
    "An Elf just remembered one more important detail: the two adjacent matching digits are not part of a larger group of matching digits.\n",
    "\n",
    "Given this additional criterion, but still ignoring the range rule, the following are now true:\n",
    "\n",
    "* 112233 meets these criteria because the digits never decrease and all repeated digits are exactly two digits long.\n",
    "* 123444 no longer meets the criteria (the repeated 44 is part of a larger group of 444).\n",
    "* 111122 meets the criteria (even though 1 is repeated more than twice, it still contains a double 22).\n",
    "\n",
    "**How many different passwords within the range given in your puzzle input meet all of the criteria?**"
   ]
  },
  {
   "cell_type": "code",
   "execution_count": 4,
   "metadata": {},
   "outputs": [],
   "source": [
    "## INPUT RANGE FOR PASSWORD 254032-789860\n",
    "def modified_pass_check(num):\n",
    "    str_form = str(num)\n",
    "    count = Counter(str_form)\n",
    "    flag1 = 0\n",
    "    flag2 = 1\n",
    "    \n",
    "    # never decreases\n",
    "    for val in range(len(str_form)-1):\n",
    "        if str_form[val] == str_form[val+1] and count[str_form[val]] == 2:\n",
    "            flag1 = 1\n",
    "        if int(str_form[val]) > int(str_form[val+1]):\n",
    "            flag2 = 0\n",
    "    \n",
    "    if flag1 == 1 and flag2 == 1:\n",
    "        return num\n",
    "    else:\n",
    "        return None"
   ]
  },
  {
   "cell_type": "code",
   "execution_count": 5,
   "metadata": {
    "scrolled": true
   },
   "outputs": [
    {
     "data": {
      "text/plain": [
       "670"
      ]
     },
     "execution_count": 5,
     "metadata": {},
     "output_type": "execute_result"
    }
   ],
   "source": [
    "match_pass = 0\n",
    "for number in range(254032, 789860+1, 1):\n",
    "    if modified_pass_check(number):\n",
    "        match_pass += 1\n",
    "match_pass"
   ]
  }
 ],
 "metadata": {
  "kernelspec": {
   "display_name": "Python 3",
   "language": "python",
   "name": "python3"
  },
  "language_info": {
   "codemirror_mode": {
    "name": "ipython",
    "version": 3
   },
   "file_extension": ".py",
   "mimetype": "text/x-python",
   "name": "python",
   "nbconvert_exporter": "python",
   "pygments_lexer": "ipython3",
   "version": "3.7.5"
  }
 },
 "nbformat": 4,
 "nbformat_minor": 2
}
